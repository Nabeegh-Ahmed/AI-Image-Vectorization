{
 "cells": [
  {
   "cell_type": "code",
   "execution_count": 32,
   "id": "523a2c78",
   "metadata": {
    "id": "523a2c78"
   },
   "outputs": [],
   "source": [
    "import pandas as pd\n",
    "import numpy as np\n",
    "import matplotlib.pyplot as plt\n",
    "from random import randrange\n",
    "from copy import deepcopy\n",
    "from PIL import Image\n",
    "MAX_ITERATIONS = 100\n",
    "import math"
   ]
  },
  {
   "cell_type": "code",
   "execution_count": 33,
   "id": "d96bd4d6",
   "metadata": {
    "id": "d96bd4d6"
   },
   "outputs": [],
   "source": [
    "def euclidean_distance(p1, p2):\n",
    "    # Simple distance formula\n",
    "    return math.sqrt( ((p1[0]-p2[0])**2)+((p1[1]-p2[1])**2)+((p1[2]-p2[2])**2) )"
   ]
  },
  {
   "cell_type": "code",
   "execution_count": 34,
   "id": "c629f5af",
   "metadata": {
    "id": "c629f5af"
   },
   "outputs": [],
   "source": [
    "def read_image(filename):\n",
    "    return Image.open(filename)"
   ]
  },
  {
   "cell_type": "code",
   "execution_count": 35,
   "id": "e3e70cdc",
   "metadata": {
    "id": "e3e70cdc",
    "outputId": "45427d71-d0df-4b21-b4f5-17efe5486356"
   },
   "outputs": [
    {
     "data": {
      "text/plain": [
       "(280, 237, 3)"
      ]
     },
     "execution_count": 35,
     "metadata": {},
     "output_type": "execute_result"
    }
   ],
   "source": [
    "data = np.array(read_image(\"obama.png\"))\n",
    "data.shape"
   ]
  },
  {
   "cell_type": "code",
   "execution_count": 36,
   "id": "58fb0031",
   "metadata": {
    "id": "58fb0031"
   },
   "outputs": [],
   "source": [
    "def get_new_k(arr, k, data):\n",
    "    k_sum = [0, 0, 0]\n",
    "    count = 0\n",
    "    # Go through all the book keeping array, if one is found, add that row data\n",
    "    for i in range(len(arr)):\n",
    "        if arr[i][k-1] == 1:\n",
    "            row = math.floor(i/data.shape[1])\n",
    "            col = i - row*data.shape[1]\n",
    "            \n",
    "            for k_point in range(3):\n",
    "                k_sum[k_point] += data[row][col][k_point]\n",
    "            count += 1\n",
    "    # take average\n",
    "    if count != 0:\n",
    "        k_sum[0] /= count\n",
    "        k_sum[1] /= count\n",
    "        k_sum[2] /= count\n",
    "    for i in range(len(k_sum)):\n",
    "        k_sum[i] = round(k_sum[i])\n",
    "    return k_sum\n",
    "      "
   ]
  },
  {
   "cell_type": "code",
   "execution_count": 37,
   "id": "0aa6842e",
   "metadata": {
    "id": "0aa6842e"
   },
   "outputs": [],
   "source": [
    "def clusterize_data(arr, k, data):\n",
    "    # Create a dict and check if the row has 1 for corresponding k\n",
    "    clusters = dict()\n",
    "    for i in range(k):\n",
    "        clusters[i+1] = []\n",
    "    for row in range(len(arr)):\n",
    "        for k_val in range(k):\n",
    "            if arr[row][k_val] == 1:\n",
    "                t_row = math.floor(row/data.shape[1])\n",
    "                t_col = row - t_row*data.shape[1]\n",
    "                clusters[k_val+1].append([t_row, t_col])\n",
    "    return clusters"
   ]
  },
  {
   "cell_type": "code",
   "execution_count": 38,
   "id": "8bf0e8cc",
   "metadata": {
    "id": "8bf0e8cc"
   },
   "outputs": [],
   "source": [
    "def k_means(k, data):\n",
    "    centroids = []\n",
    "    # Initialize centroids\n",
    "    for i in range(k):\n",
    "        centroids.append(data[randrange(0, data.shape[0])][randrange(0, data.shape[1])])\n",
    "    \n",
    "    # Create a book keeper\n",
    "    book_keeper = [[0 for j in range(k)] for i in range(data.shape[0] * data.shape[1])]\n",
    "    \n",
    "    # run till max iters\n",
    "    for k_means_iteration in range(MAX_ITERATIONS):\n",
    "        prev_book_keeper = deepcopy(book_keeper)\n",
    "        \n",
    "        index = 0\n",
    "        for row in data:\n",
    "            for col in row:\n",
    "                distances = [euclidean_distance(col, centroids[i]) for i in range(len(centroids))]\n",
    "                # Find min of distances\n",
    "                for i in range(k):\n",
    "                    book_keeper[index][i] = 0\n",
    "                book_keeper[index][np.argmin(distances,axis=None,out=None)] = 1\n",
    "                index += 1\n",
    "        \n",
    "        centroids = [get_new_k(book_keeper, i, data) for i in range(1, k+1)]\n",
    "            \n",
    "        if prev_book_keeper == book_keeper:\n",
    "            return centroids, clusterize_data(book_keeper, k, data)\n",
    "    # Return the dict\n",
    "    return centroids, clusterize_data(book_keeper, k, data)\n",
    "    "
   ]
  },
  {
   "cell_type": "code",
   "execution_count": null,
   "id": "0b79bf42",
   "metadata": {
    "id": "0b79bf42",
    "outputId": "060b9664-f3ee-4c50-c607-3a0b8a6d36b2"
   },
   "outputs": [],
   "source": [
    "k = 4\n",
    "centroids, clusters = k_means(k, data)"
   ]
  },
  {
   "cell_type": "code",
   "execution_count": 40,
   "id": "3b851bcb",
   "metadata": {
    "id": "3b851bcb",
    "outputId": "7bd94bb7-9c8b-4a79-946b-66cd9fc9bf2f"
   },
   "outputs": [],
   "source": [
    "new_data = np.empty((data.shape[0], data.shape[1], 3), dtype='uint8')\n",
    "for i in range(k):\n",
    "    for coords in clusters[i+1]:\n",
    "        new_data[coords[0]][coords[1]] = centroids[i]\n",
    "        \n",
    "new_image = Image.fromarray(new_data)\n",
    "new_image.show()"
   ]
  }
 ],
 "metadata": {
  "colab": {
   "name": "19L-1098.ipynb",
   "provenance": []
  },
  "kernelspec": {
   "display_name": "Python 3 (ipykernel)",
   "language": "python",
   "name": "python3"
  },
  "language_info": {
   "codemirror_mode": {
    "name": "ipython",
    "version": 3
   },
   "file_extension": ".py",
   "mimetype": "text/x-python",
   "name": "python",
   "nbconvert_exporter": "python",
   "pygments_lexer": "ipython3",
   "version": "3.10.4"
  }
 },
 "nbformat": 4,
 "nbformat_minor": 5
}
